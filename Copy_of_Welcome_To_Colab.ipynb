{
  "cells": [
    {
      "cell_type": "markdown",
      "metadata": {
        "id": "view-in-github",
        "colab_type": "text"
      },
      "source": [
        "<a href=\"https://colab.research.google.com/github/gloriii03/Python-Program/blob/main/Copy_of_Welcome_To_Colab.ipynb\" target=\"_parent\"><img src=\"https://colab.research.google.com/assets/colab-badge.svg\" alt=\"Open In Colab\"/></a>"
      ]
    },
    {
      "cell_type": "code",
      "source": [
        "num1 = float(input(\"Enter first number: \"))\n",
        "num2 = float(input(\"Enter second number: \"))\n",
        "sum = num1 + num2\n",
        "print(\"The sum is:\",sum)"
      ],
      "metadata": {
        "id": "ZZuRC_rIi-Qg",
        "outputId": "d265918e-959f-499b-91b3-30e393fa44cc",
        "colab": {
          "base_uri": "https://localhost:8080/"
        }
      },
      "execution_count": null,
      "outputs": [
        {
          "output_type": "stream",
          "name": "stdout",
          "text": [
            "Enter first number: 45\n",
            "Enter second number: 56\n",
            "The sum is: 101.0\n"
          ]
        }
      ]
    },
    {
      "cell_type": "code",
      "source": [
        "num = int(input(\"Enter a number: \"))\n",
        "if num % 2 == 0:\n",
        "    print(f\"{num} is even.\")\n",
        "else:\n",
        "    print(f\"{num} is odd.\")"
      ],
      "metadata": {
        "id": "RmRH7mHRkct1",
        "outputId": "17069168-b2b1-4401-815b-e521e35a8adf",
        "colab": {
          "base_uri": "https://localhost:8080/"
        }
      },
      "execution_count": null,
      "outputs": [
        {
          "output_type": "stream",
          "name": "stdout",
          "text": [
            "Enter a number: 34\n",
            "34 is even.\n"
          ]
        }
      ]
    },
    {
      "cell_type": "code",
      "source": [
        "num = int(input(\"Enter a number: \"))\n",
        "for i in range(1, 11):\n",
        "    print(f\"{num} x {i} = {num*i}\")"
      ],
      "metadata": {
        "id": "tnYQnrHhkp1W",
        "outputId": "05afcae9-6fd5-4cbc-e482-909b67e0ede7",
        "colab": {
          "base_uri": "https://localhost:8080/"
        }
      },
      "execution_count": null,
      "outputs": [
        {
          "output_type": "stream",
          "name": "stdout",
          "text": [
            "Enter a number: 2\n",
            "2 x 1 = 2\n",
            "2 x 2 = 4\n",
            "2 x 3 = 6\n",
            "2 x 4 = 8\n",
            "2 x 5 = 10\n",
            "2 x 6 = 12\n",
            "2 x 7 = 14\n",
            "2 x 8 = 16\n",
            "2 x 9 = 18\n",
            "2 x 10 = 20\n"
          ]
        }
      ]
    },
    {
      "cell_type": "code",
      "source": [
        "num1 = float(input(\"Enter first number: \"))\n",
        "num2 = float(input(\"Enter second number: \"))\n",
        "num3 = float(input(\"Enter third number: \"))\n",
        "\n",
        "largest = num1\n",
        "\n",
        "if num2 > largest:\n",
        "    largest = num2\n",
        "if num3 > largest:\n",
        "    largest = num3\n",
        "\n",
        "print(f\"The largest number is {largest}\")"
      ],
      "metadata": {
        "id": "LI8pke0MkzVj",
        "outputId": "91333e35-6ced-4caa-b05e-9c6a0d07fd25",
        "colab": {
          "base_uri": "https://localhost:8080/"
        }
      },
      "execution_count": null,
      "outputs": [
        {
          "output_type": "stream",
          "name": "stdout",
          "text": [
            "Enter first number: 2\n",
            "Enter second number: 7\n",
            "Enter third number: 5\n",
            "The largest number is 7.0\n"
          ]
        }
      ]
    },
    {
      "cell_type": "code",
      "source": [
        "celsius = float(input(\"Enter temperature in Celsius: \"))\n",
        "fahrenheit = (celsius * 9/5) + 32\n",
        "print(f\"{celsius}°C is equal to {fahrenheit}°F.\")"
      ],
      "metadata": {
        "id": "GyjPQNHLk7dq",
        "outputId": "aa1f9980-9fac-4cdf-e630-005e0a7c9089",
        "colab": {
          "base_uri": "https://localhost:8080/"
        }
      },
      "execution_count": null,
      "outputs": [
        {
          "output_type": "stream",
          "name": "stdout",
          "text": [
            "Enter temperature in Celsius: 20\n",
            "20.0°C is equal to 68.0°F.\n"
          ]
        }
      ]
    },
    {
      "cell_type": "code",
      "source": [
        "num = float(input(\"Enter a number: \"))\n",
        "if num > 0:\n",
        "    print(f\"{num} is positive.\")\n",
        "elif num < 0:\n",
        "    print(f\"{num} is negative.\")\n",
        "else:\n",
        "    print(f\"{num} is zero.\")"
      ],
      "metadata": {
        "id": "0EXdU6exlC93",
        "outputId": "c8a447a0-8fa7-4f4f-c3a1-d662800d9258",
        "colab": {
          "base_uri": "https://localhost:8080/"
        }
      },
      "execution_count": null,
      "outputs": [
        {
          "output_type": "stream",
          "name": "stdout",
          "text": [
            "Enter a number: 4\n",
            "4.0 is positive.\n"
          ]
        }
      ]
    },
    {
      "cell_type": "code",
      "source": [
        "print(\"Hello, World!\")"
      ],
      "metadata": {
        "id": "u7dKnQ9llOf0",
        "outputId": "e5df7fcc-e269-4906-d5c7-329806473892",
        "colab": {
          "base_uri": "https://localhost:8080/"
        }
      },
      "execution_count": null,
      "outputs": [
        {
          "output_type": "stream",
          "name": "stdout",
          "text": [
            "Hello, World!\n"
          ]
        }
      ]
    },
    {
      "cell_type": "code",
      "execution_count": null,
      "metadata": {
        "id": "zwFnJsE6vjf8",
        "colab": {
          "base_uri": "https://localhost:8080/"
        },
        "outputId": "9fa1dfb2-4ea3-4642-88f7-59d4a2db2e40"
      },
      "outputs": [
        {
          "output_type": "stream",
          "name": "stdout",
          "text": [
            "10 3.14 sumit True\n"
          ]
        }
      ],
      "source": [
        "\"Variables and Data Types\"\n",
        "x = 10      # Integer\n",
        "y = 3.14    # Float\n",
        "name = \"sumit\"  # String\n",
        "is_active = True  # Boolean\n",
        "print(x, y, name, is_active)\n"
      ]
    },
    {
      "cell_type": "code",
      "source": [
        "#IF ELSE STATEMENT\n",
        "age = 18\n",
        "if age >= 18:\n",
        "    print(\"Adult\")\n",
        "else:\n",
        "    print(\"Not an adult\")\n"
      ],
      "metadata": {
        "colab": {
          "base_uri": "https://localhost:8080/"
        },
        "id": "8PTMotMA8OyS",
        "outputId": "e36b21c7-2f5e-484f-8277-9fb4bbb7c870"
      },
      "execution_count": null,
      "outputs": [
        {
          "output_type": "stream",
          "name": "stdout",
          "text": [
            "Adult\n"
          ]
        }
      ]
    },
    {
      "cell_type": "code",
      "source": [
        "\"FOR LOOP\"\n",
        "for i in range(1, 6):\n",
        "    print(i)"
      ],
      "metadata": {
        "colab": {
          "base_uri": "https://localhost:8080/"
        },
        "id": "acUIWGK88dOI",
        "outputId": "845d066b-d839-4704-9a58-7414cc2d7f2c"
      },
      "execution_count": null,
      "outputs": [
        {
          "output_type": "stream",
          "name": "stdout",
          "text": [
            "1\n",
            "2\n",
            "3\n",
            "4\n",
            "5\n"
          ]
        }
      ]
    },
    {
      "cell_type": "code",
      "source": [
        "\"WHILE LOOP\"\n",
        "i = 0\n",
        "while i < 5:\n",
        "    print(i)\n",
        "    i += 1\n"
      ],
      "metadata": {
        "colab": {
          "base_uri": "https://localhost:8080/"
        },
        "id": "yHwwI4Nn8ltT",
        "outputId": "4a549f2e-93b3-4369-ae39-5ef568be27ef"
      },
      "execution_count": null,
      "outputs": [
        {
          "output_type": "stream",
          "name": "stdout",
          "text": [
            "0\n",
            "1\n",
            "2\n",
            "3\n",
            "4\n"
          ]
        }
      ]
    },
    {
      "cell_type": "code",
      "source": [
        "def greet(name):\n",
        "    print(\"Hello\", name)\n",
        "\n",
        "greet(\"SUMIT\")"
      ],
      "metadata": {
        "colab": {
          "base_uri": "https://localhost:8080/"
        },
        "id": "Sm34Q3ZP8wl9",
        "outputId": "d1435f35-8073-465e-d26e-5503556a2308"
      },
      "execution_count": null,
      "outputs": [
        {
          "output_type": "stream",
          "name": "stdout",
          "text": [
            "Hello SUMIT\n"
          ]
        }
      ]
    },
    {
      "cell_type": "code",
      "source": [
        "\"RETURN FROM FUNCTION\"\n",
        "def add_numbers(a, b):\n",
        "    return a + b\n",
        "\n",
        "result = add_numbers(9, 3)\n",
        "print(result)"
      ],
      "metadata": {
        "colab": {
          "base_uri": "https://localhost:8080/"
        },
        "id": "jDGLFmwA87pw",
        "outputId": "595576cd-86ad-48d1-d24a-3ef5ce7d5756"
      },
      "execution_count": null,
      "outputs": [
        {
          "output_type": "stream",
          "name": "stdout",
          "text": [
            "12\n"
          ]
        }
      ]
    },
    {
      "cell_type": "code",
      "source": [
        "\"LIST AND LOOP THROUGH IT\"\n",
        "fruits = [\"apple\", \"banana\", \"cherry\"]\n",
        "for fruit in fruits:\n",
        "    print(fruit)"
      ],
      "metadata": {
        "colab": {
          "base_uri": "https://localhost:8080/"
        },
        "id": "4aFhq7x-9a-2",
        "outputId": "94f17838-283a-41f6-dcce-b60f1df8a1c0"
      },
      "execution_count": null,
      "outputs": [
        {
          "output_type": "stream",
          "name": "stdout",
          "text": [
            "apple\n",
            "banana\n",
            "cherry\n"
          ]
        }
      ]
    },
    {
      "cell_type": "code",
      "source": [
        "#DICTIONARY\n",
        "person = {\"name\": \"sumit\", \"age\":19 , \"city\": \"mumbai\"}\n",
        "print(person[\"name\"])"
      ],
      "metadata": {
        "colab": {
          "base_uri": "https://localhost:8080/"
        },
        "id": "7FzqJ_z49oKC",
        "outputId": "8f7a955d-82f0-45c1-e909-67b458dc3f73"
      },
      "execution_count": null,
      "outputs": [
        {
          "output_type": "stream",
          "name": "stdout",
          "text": [
            "sumit\n"
          ]
        }
      ]
    },
    {
      "cell_type": "code",
      "source": [
        "\"find factorial\"\n",
        "num = 5\n",
        "factorial = 1\n",
        "for i in range(1, num + 1):\n",
        "    factorial *= i\n",
        "print(f\"Factorial of {num} is {factorial}\")"
      ],
      "metadata": {
        "colab": {
          "base_uri": "https://localhost:8080/"
        },
        "id": "GAxm8Auh-JSc",
        "outputId": "dccd4896-7d18-44a4-fa0d-0ad0edd21203"
      },
      "execution_count": null,
      "outputs": [
        {
          "output_type": "stream",
          "name": "stdout",
          "text": [
            "Factorial of 5 is 120\n"
          ]
        }
      ]
    },
    {
      "cell_type": "code",
      "source": [
        "\"list comprehension\"\n",
        "squares = [x ** 2 for x in range(1, 6)]\n",
        "print(squares)"
      ],
      "metadata": {
        "colab": {
          "base_uri": "https://localhost:8080/"
        },
        "id": "_hlMX-AF-Pt_",
        "outputId": "86eea3bf-2d15-4f2b-c291-ad80a98c3f63"
      },
      "execution_count": null,
      "outputs": [
        {
          "output_type": "stream",
          "name": "stdout",
          "text": [
            "[1, 4, 9, 16, 25]\n"
          ]
        }
      ]
    },
    {
      "cell_type": "code",
      "source": [
        "\"find max and min\"\n",
        "numbers = [5, 12, 9, 1, 8]\n",
        "print(\"Max:\", max(numbers))\n",
        "print(\"Min:\", min(numbers))"
      ],
      "metadata": {
        "colab": {
          "base_uri": "https://localhost:8080/"
        },
        "id": "NnSbN2rN-lYc",
        "outputId": "14fd9b6e-55f3-479e-bab2-27252755cdf0"
      },
      "execution_count": null,
      "outputs": [
        {
          "output_type": "stream",
          "name": "stdout",
          "text": [
            "Max: 12\n",
            "Min: 1\n"
          ]
        }
      ]
    },
    {
      "cell_type": "code",
      "source": [
        "\"set operation\"\n",
        "set1 = {1, 2, 3}\n",
        "set2 = {3, 4, 5}\n",
        "print(set1.union(set2))  # Union\n",
        "print(set1.intersection(set2))  # Intersection\n",
        "print(set1.difference(set2))  # Difference"
      ],
      "metadata": {
        "colab": {
          "base_uri": "https://localhost:8080/"
        },
        "id": "lR48FELG-xAX",
        "outputId": "d03f5625-472f-4957-91c0-f932f69a4605"
      },
      "execution_count": null,
      "outputs": [
        {
          "output_type": "stream",
          "name": "stdout",
          "text": [
            "{1, 2, 3, 4, 5}\n",
            "{3}\n",
            "{1, 2}\n"
          ]
        }
      ]
    },
    {
      "cell_type": "code",
      "source": [
        "text = \"Python is great\"\n",
        "print(\"Length of the string:\", len(text))"
      ],
      "metadata": {
        "colab": {
          "base_uri": "https://localhost:8080/"
        },
        "id": "QE9iHGJZ_EBJ",
        "outputId": "91040a99-3e0f-4a5a-9cd6-76d6791e3d0b"
      },
      "execution_count": null,
      "outputs": [
        {
          "output_type": "stream",
          "name": "stdout",
          "text": [
            "Length of the string: 15\n"
          ]
        }
      ]
    },
    {
      "cell_type": "code",
      "source": [
        "text = \"Python\"\n",
        "reversed_text = text[::-1]\n",
        "print(\"Reversed string:\", reversed_text)"
      ],
      "metadata": {
        "colab": {
          "base_uri": "https://localhost:8080/"
        },
        "id": "YCHIMk75_Yls",
        "outputId": "1603b53d-1450-4e22-d0a7-0bb0383e129a"
      },
      "execution_count": null,
      "outputs": [
        {
          "output_type": "stream",
          "name": "stdout",
          "text": [
            "Reversed string: nohtyP\n"
          ]
        }
      ]
    },
    {
      "cell_type": "code",
      "source": [
        "list1 = [1, 2, 3]\n",
        "list2 = [4, 5, 6]\n",
        "combined = list1 + list2\n",
        "print(\"Combined List:\", combined)"
      ],
      "metadata": {
        "colab": {
          "base_uri": "https://localhost:8080/"
        },
        "id": "luJs_soQ_YtX",
        "outputId": "6f918ee9-efa7-478e-aa03-7da969d4e8ca"
      },
      "execution_count": null,
      "outputs": [
        {
          "output_type": "stream",
          "name": "stdout",
          "text": [
            "Combined List: [1, 2, 3, 4, 5, 6]\n"
          ]
        }
      ]
    },
    {
      "cell_type": "code",
      "source": [
        "#common element in two list\n",
        "list1 = [1, 2, 3, 4]\n",
        "list2 = [3, 4, 5, 6]\n",
        "common_elements = list(set(list1) & set(list2))\n",
        "print(\"Common Elements:\", common_elements)"
      ],
      "metadata": {
        "colab": {
          "base_uri": "https://localhost:8080/"
        },
        "id": "cEMvdNyQ_mJL",
        "outputId": "43d49606-2426-4f56-98b8-438cd8e78a0d"
      },
      "execution_count": null,
      "outputs": [
        {
          "output_type": "stream",
          "name": "stdout",
          "text": [
            "Common Elements: [3, 4]\n"
          ]
        }
      ]
    },
    {
      "cell_type": "code",
      "source": [
        "\"convert string into uppercase\"\n",
        "text = \"hello world\"\n",
        "upper_text = text.upper()\n",
        "print(upper_text)"
      ],
      "metadata": {
        "colab": {
          "base_uri": "https://localhost:8080/"
        },
        "id": "IKc4D2ScAFvL",
        "outputId": "d1c1187b-f446-4beb-a51d-46ab05a6f075"
      },
      "execution_count": null,
      "outputs": [
        {
          "output_type": "stream",
          "name": "stdout",
          "text": [
            "HELLO WORLD\n"
          ]
        }
      ]
    },
    {
      "cell_type": "code",
      "source": [
        "\"sort a list\"\n",
        "numbers = [10, 2, 5, 7, 3]\n",
        "numbers.sort()\n",
        "print(\"Sorted List:\", numbers)"
      ],
      "metadata": {
        "colab": {
          "base_uri": "https://localhost:8080/"
        },
        "id": "hR68tOq5ARTW",
        "outputId": "3e170385-3e67-4cf7-ce51-9f52d92f4203"
      },
      "execution_count": null,
      "outputs": [
        {
          "output_type": "stream",
          "name": "stdout",
          "text": [
            "Sorted List: [2, 3, 5, 7, 10]\n"
          ]
        }
      ]
    },
    {
      "cell_type": "code",
      "source": [
        "\"remove duplicate from list\"\n",
        "numbers = [1, 44, 44, 3, 89, 89, 74, 56, 56, 5]\n",
        "unique_numbers = list(set(numbers))\n",
        "print(\"Unique Numbers:\", unique_numbers)"
      ],
      "metadata": {
        "colab": {
          "base_uri": "https://localhost:8080/"
        },
        "id": "HjPFeTgKARZb",
        "outputId": "923b905b-ecc1-4a81-8bd1-db970fef6dbe"
      },
      "execution_count": null,
      "outputs": [
        {
          "output_type": "stream",
          "name": "stdout",
          "text": [
            "Unique Numbers: [1, 3, 5, 74, 44, 56, 89]\n"
          ]
        }
      ]
    },
    {
      "cell_type": "code",
      "source": [
        "\"sum of list element\"\n",
        "numbers = [34, 66, 100, 91, 4, 5]\n",
        "total = sum(numbers)\n",
        "print(\"Sum:\", total)"
      ],
      "metadata": {
        "colab": {
          "base_uri": "https://localhost:8080/"
        },
        "id": "t6zMh3thA8Ow",
        "outputId": "46169bb1-db5f-4832-e77b-f0da6e252b9a"
      },
      "execution_count": null,
      "outputs": [
        {
          "output_type": "stream",
          "name": "stdout",
          "text": [
            "Sum: 300\n"
          ]
        }
      ]
    },
    {
      "cell_type": "code",
      "source": [
        "\"remove an element from list\"\n",
        "fruits = [\"apple\", \"banana\", \"cherry\"]\n",
        "fruits.remove(\"banana\")\n",
        "print(\"List after removal:\", fruits)"
      ],
      "metadata": {
        "colab": {
          "base_uri": "https://localhost:8080/"
        },
        "id": "cBpPz7u2Bn8V",
        "outputId": "67e9abe2-b98e-413b-beb9-8ff714b30883"
      },
      "execution_count": null,
      "outputs": [
        {
          "output_type": "stream",
          "name": "stdout",
          "text": [
            "List after removal: ['apple', 'cherry']\n"
          ]
        }
      ]
    },
    {
      "cell_type": "code",
      "source": [
        "#zip two lists together\n",
        "names = [\"Alice\", \"Bob\", \"Charlie\"]\n",
        "ages = [25, 30, 35]\n",
        "zipped = list(zip(names, ages))\n",
        "print(\"Zipped List:\", zipped)"
      ],
      "metadata": {
        "colab": {
          "base_uri": "https://localhost:8080/"
        },
        "id": "H-VS8l31B4pW",
        "outputId": "d08c6a7c-2115-46e8-e05e-825266cf6393"
      },
      "execution_count": null,
      "outputs": [
        {
          "output_type": "stream",
          "name": "stdout",
          "text": [
            "Zipped List: [('Alice', 25), ('Bob', 30), ('Charlie', 35)]\n"
          ]
        }
      ]
    },
    {
      "cell_type": "code",
      "source": [
        "#create a list of even number\n",
        "even_numbers = [x for x in range(1, 11) if x % 2 == 0]\n",
        "print(\"Even Numbers:\", even_numbers)"
      ],
      "metadata": {
        "colab": {
          "base_uri": "https://localhost:8080/"
        },
        "id": "TfCoJP3NCjzL",
        "outputId": "37b7b87a-0ec1-4c16-dbfb-4c9fd2fc0c55"
      },
      "execution_count": null,
      "outputs": [
        {
          "output_type": "stream",
          "name": "stdout",
          "text": [
            "Even Numbers: [2, 4, 6, 8, 10]\n"
          ]
        }
      ]
    },
    {
      "cell_type": "code",
      "source": [
        "#multiply elements in the list\n",
        "numbers = [2, 3, 4]\n",
        "result = 3\n",
        "for num in numbers:\n",
        "    result *= num\n",
        "print(\"Product of list elements:\", result)"
      ],
      "metadata": {
        "colab": {
          "base_uri": "https://localhost:8080/"
        },
        "id": "MYMaOVRXCEyk",
        "outputId": "afd1403b-3357-498b-c335-7a595a329da9"
      },
      "execution_count": null,
      "outputs": [
        {
          "output_type": "stream",
          "name": "stdout",
          "text": [
            "Product of list elements: 72\n"
          ]
        }
      ]
    },
    {
      "cell_type": "code",
      "source": [
        "\"find a difference between two list\"\n",
        "list1 = [1, 2, 3, 4]\n",
        "list2 = [3, 4, 5, 6]\n",
        "difference = list(set(list1) - set(list2))\n",
        "print(\"Difference:\", difference)"
      ],
      "metadata": {
        "colab": {
          "base_uri": "https://localhost:8080/"
        },
        "id": "EZcMHeDNCrxt",
        "outputId": "901f350e-d9fb-4cc0-a69c-8aa97c663976"
      },
      "execution_count": null,
      "outputs": [
        {
          "output_type": "stream",
          "name": "stdout",
          "text": [
            "Difference: [1, 2]\n"
          ]
        }
      ]
    },
    {
      "cell_type": "code",
      "source": [
        "#Find the Largest Number in a List\n",
        "def find_max(nums):\n",
        "    return max(nums)\n",
        "print(find_max([3, 5, 7, 2, 8]))"
      ],
      "metadata": {
        "colab": {
          "base_uri": "https://localhost:8080/"
        },
        "id": "uqFzZIMv0Jx4",
        "outputId": "5802feaf-6910-4f27-bb33-f7fd0bcd743a"
      },
      "execution_count": null,
      "outputs": [
        {
          "output_type": "stream",
          "name": "stdout",
          "text": [
            "8\n"
          ]
        }
      ]
    },
    {
      "cell_type": "code",
      "source": [
        "\"List Comprehension: Get Even Numbers\"\n",
        "numbers = [1, 2, 3, 4, 5, 6, 7, 8]\n",
        "evens = [num for num in numbers if num % 2 == 0]\n",
        "print(evens)"
      ],
      "metadata": {
        "colab": {
          "base_uri": "https://localhost:8080/"
        },
        "id": "WyDK1-cZ0XKM",
        "outputId": "c4e4f2ec-0f9d-4c1e-a409-ceb91d752041"
      },
      "execution_count": null,
      "outputs": [
        {
          "output_type": "stream",
          "name": "stdout",
          "text": [
            "[2, 4, 6, 8]\n"
          ]
        }
      ]
    },
    {
      "cell_type": "code",
      "source": [
        "\"Find the Intersection of Two Lists\"\n",
        "def intersection(lst1, lst2):\n",
        "    return list(set(lst1) & set(lst2))\n",
        "print(intersection([1, 2, 3], [3, 4, 5]))"
      ],
      "metadata": {
        "colab": {
          "base_uri": "https://localhost:8080/"
        },
        "id": "siH-VzxZ0d9e",
        "outputId": "2e970d6e-fa58-47da-9b3c-f748f89eb54a"
      },
      "execution_count": null,
      "outputs": [
        {
          "output_type": "stream",
          "name": "stdout",
          "text": [
            "[3]\n"
          ]
        }
      ]
    },
    {
      "cell_type": "code",
      "source": [
        "#Get the Current Date and Time\n",
        "from datetime import datetime\n",
        "\n",
        "def current_datetime():\n",
        "    return datetime.now()\n",
        "print(current_datetime())"
      ],
      "metadata": {
        "colab": {
          "base_uri": "https://localhost:8080/"
        },
        "id": "eMBMsDVg0_i4",
        "outputId": "d0a10402-77a0-449f-c3a1-6bbbf150e3e6"
      },
      "execution_count": null,
      "outputs": [
        {
          "output_type": "stream",
          "name": "stdout",
          "text": [
            "2025-03-21 18:43:00.816439\n"
          ]
        }
      ]
    },
    {
      "cell_type": "code",
      "source": [
        "\"Find the Second Largest Number in a List\"\n",
        "def second_largest(nums):\n",
        "    nums = list(set(nums))\n",
        "    nums.sort()\n",
        "    return nums[-2] if len(nums) > 1 else None\n",
        "print(second_largest([10, 20, 4, 45, 99]))"
      ],
      "metadata": {
        "colab": {
          "base_uri": "https://localhost:8080/"
        },
        "id": "C0EPIUWE1VDg",
        "outputId": "490c6fdd-c9ec-4133-b4a5-72d1d72850bb"
      },
      "execution_count": null,
      "outputs": [
        {
          "output_type": "stream",
          "name": "stdout",
          "text": [
            "45\n"
          ]
        }
      ]
    },
    {
      "cell_type": "code",
      "source": [
        "\"Get the First and Last Element of a List\"\n",
        "def first_last(lst):\n",
        "    return lst[0], lst[-1] if lst else None, None\n",
        "print(first_last([10, 20, 30, 40]))"
      ],
      "metadata": {
        "colab": {
          "base_uri": "https://localhost:8080/"
        },
        "id": "fHmir94V12CH",
        "outputId": "9f720984-b092-415f-e302-d33dc2fdfd58"
      },
      "execution_count": null,
      "outputs": [
        {
          "output_type": "stream",
          "name": "stdout",
          "text": [
            "(10, 40, None)\n"
          ]
        }
      ]
    },
    {
      "cell_type": "code",
      "source": [
        "list1 = [1, 2, 3, 4, 5]\n",
        "list2 = [4, 5, 6, 7, 8]\n",
        "difference = list(set(list1) - set(list2))\n",
        "print(\"Difference:\", difference)"
      ],
      "metadata": {
        "colab": {
          "base_uri": "https://localhost:8080/"
        },
        "id": "mPRSHmULC3wu",
        "outputId": "6d428d68-3fb7-462f-9dce-ebf372bcca3e"
      },
      "execution_count": null,
      "outputs": [
        {
          "output_type": "stream",
          "name": "stdout",
          "text": [
            "Difference: [1, 2, 3]\n"
          ]
        }
      ]
    },
    {
      "cell_type": "code",
      "source": [
        "\"If-Else Statement with Multiple Conditions\"\n",
        "num = 5\n",
        "\n",
        "if num > 0:\n",
        "    print(\"The number is positive.\")\n",
        "elif num == 0:\n",
        "    print(\"The number is zero.\")\n",
        "else:\n",
        "    print(\"The number is negative.\")"
      ],
      "metadata": {
        "colab": {
          "base_uri": "https://localhost:8080/"
        },
        "id": "q7giXHvnDLt3",
        "outputId": "10aa5fdc-7d57-421e-f253-369ca48e23c9"
      },
      "execution_count": null,
      "outputs": [
        {
          "output_type": "stream",
          "name": "stdout",
          "text": [
            "The number is positive.\n"
          ]
        }
      ]
    },
    {
      "cell_type": "code",
      "source": [
        "#Convert List of Strings to Uppercase\n",
        "words = [\"hello\", \"world\", \"python\"]\n",
        "upper_words = [word.upper() for word in words]\n",
        "print(\"Uppercase Words:\", upper_words)"
      ],
      "metadata": {
        "colab": {
          "base_uri": "https://localhost:8080/"
        },
        "id": "Wxsy0DnxC6A3",
        "outputId": "11d7965f-08f0-490a-ef5c-a5913d2d380f"
      },
      "execution_count": null,
      "outputs": [
        {
          "output_type": "stream",
          "name": "stdout",
          "text": [
            "Uppercase Words: ['HELLO', 'WORLD', 'PYTHON']\n"
          ]
        }
      ]
    },
    {
      "cell_type": "code",
      "source": [
        "#logical AND\n",
        "x = 5\n",
        "y = 10\n",
        "\n",
        "if x > 0 and y > 0:\n",
        "    print(\"Both x and y are positive numbers.\")\n",
        "else:\n",
        "    print(\"At least one of x or y is not positive.\")"
      ],
      "metadata": {
        "colab": {
          "base_uri": "https://localhost:8080/"
        },
        "id": "vs8jrkRqENsh",
        "outputId": "439bcc1f-e295-4cf7-b23f-92471323ee2a"
      },
      "execution_count": null,
      "outputs": [
        {
          "output_type": "stream",
          "name": "stdout",
          "text": [
            "Both x and y are positive numbers.\n"
          ]
        }
      ]
    },
    {
      "cell_type": "code",
      "source": [
        "#logical OR\n",
        "x = -5\n",
        "y = 10\n",
        "\n",
        "if x > 0 or y > 0:\n",
        "    print(\"At least one of x or y is positive.\")\n",
        "else:\n",
        "    print(\"Both x and y are not positive.\")"
      ],
      "metadata": {
        "colab": {
          "base_uri": "https://localhost:8080/"
        },
        "id": "K14OTV87EUly",
        "outputId": "5b7e83cf-35c7-43aa-da9c-73158c00c691"
      },
      "execution_count": null,
      "outputs": [
        {
          "output_type": "stream",
          "name": "stdout",
          "text": [
            "At least one of x or y is positive.\n"
          ]
        }
      ]
    },
    {
      "cell_type": "code",
      "source": [
        "\"logical NOT\"\n",
        "x = 5\n",
        "\n",
        "if not x < 0:\n",
        "    print(\"x is not negative.\")\n",
        "else:\n",
        "    print(\"x is negative.\")"
      ],
      "metadata": {
        "colab": {
          "base_uri": "https://localhost:8080/"
        },
        "id": "YI0havF8Ecuo",
        "outputId": "b3896596-47d9-4d6a-d327-34d661167751"
      },
      "execution_count": null,
      "outputs": [
        {
          "output_type": "stream",
          "name": "stdout",
          "text": [
            "x is not negative.\n"
          ]
        }
      ]
    },
    {
      "cell_type": "code",
      "source": [
        "\"combining multiple operator\"\n",
        "x = 15\n",
        "y = 25\n",
        "z = -10\n",
        "\n",
        "if (x > 0 and y > 0) or (z < 0 and not x == 0):\n",
        "    print(\"The condition is true.\")\n",
        "else:\n",
        "    print(\"The condition is false.\")"
      ],
      "metadata": {
        "colab": {
          "base_uri": "https://localhost:8080/"
        },
        "id": "IucEMPwtEokN",
        "outputId": "392a6af7-ff34-4332-cde6-4f1e020cd672"
      },
      "execution_count": null,
      "outputs": [
        {
          "output_type": "stream",
          "name": "stdout",
          "text": [
            "The condition is true.\n"
          ]
        }
      ]
    },
    {
      "cell_type": "code",
      "source": [
        "#nested if-else\n",
        "num = 15\n",
        "\n",
        "if num > 0:\n",
        "    if num % 2 == 0:\n",
        "        print(f\"{num} is positive and even.\")\n",
        "    else:\n",
        "        print(f\"{num} is positive and odd.\")\n",
        "else:\n",
        "    print(f\"{num} is not positive.\")"
      ],
      "metadata": {
        "colab": {
          "base_uri": "https://localhost:8080/"
        },
        "id": "1PLLrluSDiCm",
        "outputId": "c381c2b8-4744-45d3-fc0a-6e2af043f010"
      },
      "execution_count": null,
      "outputs": [
        {
          "output_type": "stream",
          "name": "stdout",
          "text": [
            "15 is positive and odd.\n"
          ]
        }
      ]
    },
    {
      "cell_type": "code",
      "source": [
        "#if-else with logical operators\n",
        "num1 = 10\n",
        "num2 = 20\n",
        "\n",
        "if num1 > 5 and num2 < 25:\n",
        "    print(\"Both conditions are true.\")\n",
        "else:\n",
        "    print(\"One or both conditions are false.\")"
      ],
      "metadata": {
        "colab": {
          "base_uri": "https://localhost:8080/"
        },
        "id": "DBn27rM8Dvz2",
        "outputId": "97564c87-1ea7-40a6-b214-0bd8f94c439f"
      },
      "execution_count": null,
      "outputs": [
        {
          "output_type": "stream",
          "name": "stdout",
          "text": [
            "Both conditions are true.\n"
          ]
        }
      ]
    },
    {
      "cell_type": "code",
      "source": [
        "#swap two num\n",
        "a = 10\n",
        "b = 20\n",
        "a, b = b, a\n",
        "print(\"a:\", a)\n",
        "print(\"b:\", b)"
      ],
      "metadata": {
        "colab": {
          "base_uri": "https://localhost:8080/"
        },
        "id": "b69nHPtWFXm_",
        "outputId": "b5a3ea8a-e956-4e8e-b136-620c80ff2b49"
      },
      "execution_count": null,
      "outputs": [
        {
          "output_type": "stream",
          "name": "stdout",
          "text": [
            "a: 20\n",
            "b: 10\n"
          ]
        }
      ]
    },
    {
      "cell_type": "code",
      "source": [
        "#count digits in a num\n",
        "number = 123456\n",
        "count = len(str(number))\n",
        "print(f\"The number {number} has {count} digits.\")"
      ],
      "metadata": {
        "colab": {
          "base_uri": "https://localhost:8080/"
        },
        "id": "6XuJXH5nF7_t",
        "outputId": "35e7f2e1-db14-48f5-d645-563e50e5d378"
      },
      "execution_count": null,
      "outputs": [
        {
          "output_type": "stream",
          "name": "stdout",
          "text": [
            "The number 123456 has 6 digits.\n"
          ]
        }
      ]
    },
    {
      "cell_type": "code",
      "source": [
        "\"reverse a list\"\n",
        "my_list = [1, 2, 3, 4, 5]\n",
        "reversed_list = my_list[::-1]\n",
        "print(\"Reversed list:\", reversed_list)"
      ],
      "metadata": {
        "colab": {
          "base_uri": "https://localhost:8080/"
        },
        "id": "wfWWu9MiGDdc",
        "outputId": "3f7dbbc0-5307-4605-f266-2c1d6f096699"
      },
      "execution_count": null,
      "outputs": [
        {
          "output_type": "stream",
          "name": "stdout",
          "text": [
            "Reversed list: [5, 4, 3, 2, 1]\n"
          ]
        }
      ]
    },
    {
      "cell_type": "code",
      "source": [
        "#create a simple calculator\n",
        "def add(x, y):\n",
        "    return x + y\n",
        "\n",
        "def subtract(x, y):\n",
        "    return x - y\n",
        "\n",
        "def multiply(x, y):\n",
        "    return x * y\n",
        "\n",
        "def divide(x, y):\n",
        "    if y != 0:\n",
        "        return x / y\n",
        "    else:\n",
        "        return \"Cannot divide by zero!\"\n",
        "\n",
        "print(\"Select operation:\")\n",
        "print(\"1. Add\")\n",
        "print(\"2. Subtract\")\n",
        "print(\"3. Multiply\")\n",
        "print(\"4. Divide\")\n",
        "\n",
        "choice = input(\"Enter choice (1/2/3/4): \")\n",
        "num1 = float(input(\"Enter first number: \"))\n",
        "num2 = float(input(\"Enter second number: \"))\n",
        "\n",
        "if choice == '1':\n",
        "    print(f\"{num1} + {num2} = {add(num1, num2)}\")\n",
        "elif choice == '2':\n",
        "    print(f\"{num1} - {num2} = {subtract(num1, num2)}\")\n",
        "elif choice == '3':\n",
        "    print(f\"{num1} * {num2} = {multiply(num1, num2)}\")\n",
        "elif choice == '4':\n",
        "    print(f\"{num1} / {num2} = {divide(num1, num2)}\")\n",
        "else:\n",
        "    print(\"Invalid input\")"
      ],
      "metadata": {
        "colab": {
          "base_uri": "https://localhost:8080/"
        },
        "id": "7OPUQR1BGP9V",
        "outputId": "9f4e4bc7-1dd5-4687-92b5-6a7f1db71ed0"
      },
      "execution_count": null,
      "outputs": [
        {
          "output_type": "stream",
          "name": "stdout",
          "text": [
            "Select operation:\n",
            "1. Add\n",
            "2. Subtract\n",
            "3. Multiply\n",
            "4. Divide\n",
            "Enter choice (1/2/3/4): 3\n",
            "Enter first number: 5\n",
            "Enter second number: 10\n",
            "5.0 * 10.0 = 50.0\n"
          ]
        }
      ]
    },
    {
      "cell_type": "code",
      "source": [
        "\"match case\"\n",
        "def match_case(day):\n",
        "    match day:\n",
        "        case 1:\n",
        "            return \"Monday\"\n",
        "        case 2:\n",
        "            return \"Tuesday\"\n",
        "        case 3:\n",
        "            return \"Wednesday\"\n",
        "        case 4:\n",
        "            return \"Thursday\"\n",
        "        case 5:\n",
        "            return \"Friday\"\n",
        "        case 6:\n",
        "            return \"Saturday\"\n",
        "        case 7:\n",
        "            return \"Sunday\"\n",
        "        case _:\n",
        "            return \"Invalid day\"\n",
        "\n",
        "# Calling the function and printing the result\n",
        "result = match_case(6)\n",
        "print(result)  # This will print \"Wednesday\""
      ],
      "metadata": {
        "colab": {
          "base_uri": "https://localhost:8080/"
        },
        "id": "vyxE4y5oB334",
        "outputId": "331a7c74-0410-41ea-cce5-e775dc00136a"
      },
      "execution_count": null,
      "outputs": [
        {
          "output_type": "stream",
          "name": "stdout",
          "text": [
            "Saturday\n"
          ]
        }
      ]
    },
    {
      "cell_type": "code",
      "source": [
        "\"Matching with Tuples\"\n",
        "def match_tuple(value):\n",
        "    match value:\n",
        "        case (0, 0):\n",
        "            return \"Origin\"\n",
        "        case (0, y):\n",
        "            return f\"Y-axis at {y}\"\n",
        "        case (x, 0):\n",
        "            return f\"X-axis at {x}\"\n",
        "        case (x, y):\n",
        "            return f\"Point at ({x}, {y})\"\n",
        "        case _:\n",
        "            return \"Not a valid point.\"\n",
        "\n",
        "# Test the function\n",
        "print(match_tuple((0, 0)))\n",
        "print(match_tuple((3, 0)))\n",
        "print(match_tuple((0, 5)))\n",
        "print(match_tuple((2, 3)))"
      ],
      "metadata": {
        "id": "qB211u02GUp7",
        "colab": {
          "base_uri": "https://localhost:8080/"
        },
        "outputId": "ec64a7c9-22a3-4679-f817-ac5e38317c58"
      },
      "execution_count": null,
      "outputs": [
        {
          "output_type": "stream",
          "name": "stdout",
          "text": [
            "Origin\n",
            "X-axis at 3\n",
            "Y-axis at 5\n",
            "Point at (2, 3)\n"
          ]
        }
      ]
    },
    {
      "cell_type": "code",
      "source": [
        "#Matching with Lists\n",
        "def match_list(value):\n",
        "    match value:\n",
        "        case [1, 2, 3]:\n",
        "            return \"Matched the list [1, 2, 3]\"\n",
        "        case [x, y]:\n",
        "            return f\"Matched a list with two elements: {x} and {y}\"\n",
        "        case _:\n",
        "            return \"Did not match any specific list.\"\n",
        "\n",
        "# Test the function\n",
        "print(match_list([1, 2, 3]))\n",
        "print(match_list([5, 10]))\n",
        "print(match_list([1, 2, 3, 4]))"
      ],
      "metadata": {
        "colab": {
          "base_uri": "https://localhost:8080/"
        },
        "id": "mUzM2oB-PpnB",
        "outputId": "b27d1bca-f13f-4978-bb19-cc58a4b3e543"
      },
      "execution_count": null,
      "outputs": [
        {
          "output_type": "stream",
          "name": "stdout",
          "text": [
            "Matched the list [1, 2, 3]\n",
            "Matched a list with two elements: 5 and 10\n",
            "Did not match any specific list.\n"
          ]
        }
      ]
    },
    {
      "cell_type": "code",
      "source": [
        "\"using guard\"\n",
        "def match_with_guard(value):\n",
        "    match value:\n",
        "        case x if x < 0:\n",
        "            return \"Negative number\"\n",
        "        case x if x == 0:\n",
        "            return \"Zero\"\n",
        "        case x if x > 0:\n",
        "            return \"Positive number\"\n",
        "        case _:\n",
        "            return \"Not a number\"\n",
        "\n",
        "# Test the function\n",
        "print(match_with_guard(-5))\n",
        "print(match_with_guard(10))\n",
        "print(match_with_guard(0))"
      ],
      "metadata": {
        "colab": {
          "base_uri": "https://localhost:8080/"
        },
        "id": "NOuh6Mv9P8kg",
        "outputId": "4ba0e730-f400-4284-c833-c366d90b769a"
      },
      "execution_count": null,
      "outputs": [
        {
          "output_type": "stream",
          "name": "stdout",
          "text": [
            "Negative number\n",
            "Positive number\n",
            "Zero\n"
          ]
        }
      ]
    },
    {
      "cell_type": "code",
      "source": [
        "\"Matching Classes\"\n",
        "class Dog:\n",
        "    def bark(self):\n",
        "        return \"Woof!\"\n",
        "\n",
        "class Cat:\n",
        "    def meow(self):\n",
        "        return \"Meow!\"\n",
        "\n",
        "def match_animal(animal):\n",
        "    match animal:\n",
        "        case Dog():\n",
        "            return animal.bark()\n",
        "        case Cat():\n",
        "            return animal.meow()\n",
        "        case _:\n",
        "            return \"Unknown animal\"\n",
        "\n",
        "# Test the function\n",
        "dog = Dog()\n",
        "cat = Cat()\n",
        "print(match_animal(dog))\n",
        "print(match_animal(cat))"
      ],
      "metadata": {
        "colab": {
          "base_uri": "https://localhost:8080/"
        },
        "id": "rRfkCqcGQMvp",
        "outputId": "c0394a04-2f72-472b-8a8c-f7591228cd17"
      },
      "execution_count": null,
      "outputs": [
        {
          "output_type": "stream",
          "name": "stdout",
          "text": [
            "Woof!\n",
            "Meow!\n"
          ]
        }
      ]
    },
    {
      "cell_type": "code",
      "source": [
        "\"Nested Patterns\"\n",
        "def match_nested(value):\n",
        "    match value:\n",
        "        case {\"type\": \"circle\", \"radius\": r}:\n",
        "            return f\"Circle with radius {r}\"\n",
        "        case {\"type\": \"rectangle\", \"width\": w, \"height\": h}:\n",
        "            return f\"Rectangle with width {w} and height {h}\"\n",
        "        case _:\n",
        "            return \"Unknown shape\"\n",
        "\n",
        "# Test the function\n",
        "print(match_nested({\"type\": \"circle\", \"radius\": 5}))\n",
        "print(match_nested({\"type\": \"rectangle\", \"width\": 4, \"height\": 6}))\n",
        "print(match_nested({\"type\": \"triangle\"}))"
      ],
      "metadata": {
        "colab": {
          "base_uri": "https://localhost:8080/"
        },
        "id": "Uhqneml2QWx9",
        "outputId": "f94f0cd4-b3a3-4a46-82fd-97390bb225bf"
      },
      "execution_count": null,
      "outputs": [
        {
          "output_type": "stream",
          "name": "stdout",
          "text": [
            "Circle with radius 5\n",
            "Rectangle with width 4 and height 6\n",
            "Unknown shape\n"
          ]
        }
      ]
    },
    {
      "cell_type": "code",
      "source": [
        "\"Matching with Multiple Patterns\"\n",
        "def match_multiple_patterns(value):\n",
        "    match value:\n",
        "        case 1 | 2 | 3:\n",
        "            return \"You selected one of the first three numbers.\"\n",
        "        case 4 | 5 | 6:\n",
        "            return \"You selected one of the next three numbers.\"\n",
        "        case _:\n",
        "            return \"Number out of range.\"\n",
        "\n",
        "# Test the function\n",
        "print(match_multiple_patterns(1))\n",
        "print(match_multiple_patterns(5))\n",
        "print(match_multiple_patterns(7))"
      ],
      "metadata": {
        "colab": {
          "base_uri": "https://localhost:8080/"
        },
        "id": "WK8Su1dyRqtJ",
        "outputId": "9928927a-f062-486d-f08c-7f03641cda55"
      },
      "execution_count": null,
      "outputs": [
        {
          "output_type": "stream",
          "name": "stdout",
          "text": [
            "You selected one of the first three numbers.\n",
            "You selected one of the next three numbers.\n",
            "Number out of range.\n"
          ]
        }
      ]
    },
    {
      "cell_type": "code",
      "source": [
        "\"Matching with Wildcards\"\n",
        "def match_with_wildcard(value):\n",
        "    match value:\n",
        "        case (x, y, _):\n",
        "            return f\"Matched a tuple with first two elements: {x} and {y}\"\n",
        "        case _:\n",
        "            return \"Did not match a tuple.\"\n",
        "\n",
        "# Test the function\n",
        "print(match_with_wildcard((1, 2, 3)))\n",
        "print(match_with_wildcard((4, 5)))"
      ],
      "metadata": {
        "colab": {
          "base_uri": "https://localhost:8080/"
        },
        "id": "MchLl3vmR3xM",
        "outputId": "6a2e80d3-b41e-43d6-fbb8-b2fe269f36e8"
      },
      "execution_count": null,
      "outputs": [
        {
          "output_type": "stream",
          "name": "stdout",
          "text": [
            "Matched a tuple with first two elements: 1 and 2\n",
            "Did not match a tuple.\n"
          ]
        }
      ]
    },
    {
      "cell_type": "code",
      "source": [
        "\"Matching with Dictionaries\"\n",
        "def match_dictionary(value):\n",
        "    match value:\n",
        "        case {\"name\": name, \"age\": age} if age >= 18:\n",
        "            return f\"{name} is an adult.\"\n",
        "        case {\"name\": name, \"age\": age} if age < 18:\n",
        "            return f\"{name} is a minor.\"\n",
        "        case _:\n",
        "            return \"Invalid data.\"\n",
        "\n",
        "# Test the function\n",
        "print(match_dictionary({\"name\": \"Alice\", \"age\": 20}))\n",
        "print(match_dictionary({\"name\": \"Bob\", \"age\": 15}))\n",
        "print(match_dictionary({\"name\": \"Charlie\"}))"
      ],
      "metadata": {
        "colab": {
          "base_uri": "https://localhost:8080/"
        },
        "id": "vF2E1YiqSTLn",
        "outputId": "8198dec7-08e1-4228-f279-42cde4433ec1"
      },
      "execution_count": null,
      "outputs": [
        {
          "output_type": "stream",
          "name": "stdout",
          "text": [
            "Alice is an adult.\n",
            "Bob is a minor.\n",
            "Invalid data.\n"
          ]
        }
      ]
    },
    {
      "cell_type": "code",
      "source": [
        "#Combining Match with Functions\n",
        "def process_command(command):\n",
        "    match command:\n",
        "        case (\"add\", x, y):\n",
        "            return x + y\n",
        "        case (\"subtract\", x, y):\n",
        "            return x - y\n",
        "        case (\"multiply\", x, y):\n",
        "            return x * y\n",
        "        case (\"divide\", x, y) if y != 0:\n",
        "            return x / y\n",
        "        case (\"divide\", _, 0):\n",
        "            return \"Cannot divide by zero.\"\n",
        "        case _:\n",
        "            return \"Unknown command.\"\n",
        "\n",
        "# Test the function\n",
        "print(process_command((\"add\", 5, 3)))\n",
        "print(process_command((\"subtract\", 10, 4)))\n",
        "print(process_command((\"multiply\", 2, 3)))\n",
        "print(process_command((\"divide\", 8, 0)))"
      ],
      "metadata": {
        "colab": {
          "base_uri": "https://localhost:8080/"
        },
        "id": "hVNWy5CCSoIN",
        "outputId": "c474c6d6-346f-4cd6-d569-22553d980d3d"
      },
      "execution_count": null,
      "outputs": [
        {
          "output_type": "stream",
          "name": "stdout",
          "text": [
            "8\n",
            "6\n",
            "6\n",
            "Cannot divide by zero.\n"
          ]
        }
      ]
    }
  ],
  "metadata": {
    "colab": {
      "provenance": [],
      "include_colab_link": true
    },
    "kernelspec": {
      "display_name": "Python 3",
      "name": "python3"
    }
  },
  "nbformat": 4,
  "nbformat_minor": 0
}