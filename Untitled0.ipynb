{
  "nbformat": 4,
  "nbformat_minor": 0,
  "metadata": {
    "colab": {
      "provenance": [],
      "authorship_tag": "ABX9TyMMGqqLROCgu+2T/gWExThm",
      "include_colab_link": true
    },
    "kernelspec": {
      "name": "python3",
      "display_name": "Python 3"
    },
    "language_info": {
      "name": "python"
    }
  },
  "cells": [
    {
      "cell_type": "markdown",
      "metadata": {
        "id": "view-in-github",
        "colab_type": "text"
      },
      "source": [
        "<a href=\"https://colab.research.google.com/github/gloriii03/Python-Program/blob/main/Untitled0.ipynb\" target=\"_parent\"><img src=\"https://colab.research.google.com/assets/colab-badge.svg\" alt=\"Open In Colab\"/></a>"
      ]
    },
    {
      "cell_type": "code",
      "execution_count": 3,
      "metadata": {
        "colab": {
          "base_uri": "https://localhost:8080/"
        },
        "id": "iJ0qS4f5Wjg4",
        "outputId": "accf8c5b-63bc-4d1e-a0e2-ee789a5f1c8d"
      },
      "outputs": [
        {
          "output_type": "stream",
          "name": "stdout",
          "text": [
            "Hello Sumit you are 19 years old\n",
            "Your year of birth is 2006\n"
          ]
        }
      ],
      "source": [
        "import datetime\n",
        "a=\"Sumit\"\n",
        "b=19\n",
        "\n",
        "print(\"Hello\",a,\"you are\",b,\"years old\")\n",
        "\n",
        "year = (datetime.datetime.today().year)-b\n",
        "\n",
        "print('Your year of birth is',year)"
      ]
    },
    {
      "cell_type": "code",
      "source": [
        "#adding two numbers\n",
        "num1=10\n",
        "num2=20\n",
        "num1+num2"
      ],
      "metadata": {
        "id": "K-Ei3y1PXZkM",
        "outputId": "19319a1d-1d92-4bb3-c970-1d056bed70b8",
        "colab": {
          "base_uri": "https://localhost:8080/"
        }
      },
      "execution_count": 4,
      "outputs": [
        {
          "output_type": "execute_result",
          "data": {
            "text/plain": [
              "30"
            ]
          },
          "metadata": {},
          "execution_count": 4
        }
      ]
    },
    {
      "cell_type": "code",
      "source": [
        "#swapp two numbers\n",
        "num1,num2=num2,num1\n",
        "print(\"num1\",num2)\n",
        "print(\"num2\",num1)"
      ],
      "metadata": {
        "colab": {
          "base_uri": "https://localhost:8080/"
        },
        "id": "HE4PvKJVXUUh",
        "outputId": "eb0727fc-30bb-4d61-f1b3-3443761da571"
      },
      "execution_count": 5,
      "outputs": [
        {
          "output_type": "stream",
          "name": "stdout",
          "text": [
            "num1 10\n",
            "num2 20\n"
          ]
        }
      ]
    }
  ]
}