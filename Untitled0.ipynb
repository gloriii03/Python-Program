{
  "nbformat": 4,
  "nbformat_minor": 0,
  "metadata": {
    "colab": {
      "provenance": [],
      "authorship_tag": "ABX9TyNT9RKXkekKcChAad1CNzyp",
      "include_colab_link": true
    },
    "kernelspec": {
      "name": "python3",
      "display_name": "Python 3"
    },
    "language_info": {
      "name": "python"
    }
  },
  "cells": [
    {
      "cell_type": "markdown",
      "metadata": {
        "id": "view-in-github",
        "colab_type": "text"
      },
      "source": [
        "<a href=\"https://colab.research.google.com/github/gloriii03/Python-Program/blob/main/Untitled0.ipynb\" target=\"_parent\"><img src=\"https://colab.research.google.com/assets/colab-badge.svg\" alt=\"Open In Colab\"/></a>"
      ]
    },
    {
      "cell_type": "code",
      "execution_count": null,
      "metadata": {
        "colab": {
          "base_uri": "https://localhost:8080/"
        },
        "id": "iJ0qS4f5Wjg4",
        "outputId": "accf8c5b-63bc-4d1e-a0e2-ee789a5f1c8d"
      },
      "outputs": [
        {
          "output_type": "stream",
          "name": "stdout",
          "text": [
            "Hello Sumit you are 19 years old\n",
            "Your year of birth is 2006\n"
          ]
        }
      ],
      "source": [
        "import datetime\n",
        "a=\"Sumit\"\n",
        "b=19\n",
        "\n",
        "print(\"Hello\",a,\"you are\",b,\"years old\")\n",
        "\n",
        "year = (datetime.datetime.today().year)-b\n",
        "\n",
        "print('Your year of birth is',year)"
      ]
    },
    {
      "cell_type": "code",
      "source": [
        "#adding two numbers\n",
        "num1=10\n",
        "num2=20\n",
        "num1+num2"
      ],
      "metadata": {
        "colab": {
          "base_uri": "https://localhost:8080/"
        },
        "id": "K-Ei3y1PXZkM",
        "outputId": "19319a1d-1d92-4bb3-c970-1d056bed70b8"
      },
      "execution_count": null,
      "outputs": [
        {
          "output_type": "execute_result",
          "data": {
            "text/plain": [
              "30"
            ]
          },
          "metadata": {},
          "execution_count": 4
        }
      ]
    },
    {
      "cell_type": "code",
      "source": [
        "#swapp two numbers\n",
        "num1,num2=num2,num1\n",
        "print(\"num1\",num2)\n",
        "print(\"num2\",num1)"
      ],
      "metadata": {
        "colab": {
          "base_uri": "https://localhost:8080/"
        },
        "id": "HE4PvKJVXUUh",
        "outputId": "eb0727fc-30bb-4d61-f1b3-3443761da571"
      },
      "execution_count": null,
      "outputs": [
        {
          "output_type": "stream",
          "name": "stdout",
          "text": [
            "num1 10\n",
            "num2 20\n"
          ]
        }
      ]
    },
    {
      "cell_type": "code",
      "source": [
        "import numpy as np\n",
        "\n",
        "# Create a NumPy array with numbers from 1 to 100\n",
        "array = np.arange(1, 101)\n",
        "\n",
        "# Reshape array into a 10x10 matrix\n",
        "matrix = array.reshape(10, 10)\n",
        "\n",
        "# Calculate sum of each row\n",
        "row_sums = np.sum(matrix, axis=1)\n",
        "\n",
        "# Calculate sum of each column\n",
        "column_sums = np.sum(matrix, axis=0)\n",
        "\n",
        "# Print resulting arrays of row sums and column sums\n",
        "print(\"Row sums:\")\n",
        "print(row_sums)\n",
        "\n",
        "print(\"\\nColumn sums:\")\n",
        "print(column_sums)"
      ],
      "metadata": {
        "colab": {
          "base_uri": "https://localhost:8080/"
        },
        "id": "bQO4cqGQ3DzD",
        "outputId": "fd797874-6106-47d6-d317-b3b0f8a7ed8d"
      },
      "execution_count": null,
      "outputs": [
        {
          "output_type": "stream",
          "name": "stdout",
          "text": [
            "Row sums:\n",
            "[ 55 155 255 355 455 555 655 755 855 955]\n",
            "\n",
            "Column sums:\n",
            "[460 470 480 490 500 510 520 530 540 550]\n"
          ]
        }
      ]
    },
    {
      "cell_type": "code",
      "source": [
        "import pandas as pd\n",
        "\n",
        "# Sample data for 10 students\n",
        "data = {\n",
        "    'Name': [\n",
        "        'Sumit Singh', 'Abhinav Sharma', 'Achintya Tiwari', 'Sumit Yadav',\n",
        "        'Ronaldo', 'Akshay Kumar', 'Chhota Bheem', 'Obaid',\n",
        "        'Narendra Modi', 'Virat Kohli'\n",
        "    ],\n",
        "    'Age': [\n",
        "        20, 19, 21, 22,\n",
        "        24, 19, 18, 25,\n",
        "        22, 23\n",
        "    ],\n",
        "    'Major': [\n",
        "        'Computer Science', 'Mathematics', 'Physics', 'Biology',\n",
        "        'Chemistry', 'Engineering', 'Mathematics', 'Computer Science',\n",
        "        'Biology', 'Physics'\n",
        "    ],\n",
        "    'GPA': [\n",
        "        5.8, 5.8, 5.8, 5.8,\n",
        "        7.6, 7.1, 8.7, 5.8,\n",
        "        8.8, 9.0\n",
        "    ]\n",
        "}\n",
        "\n",
        "# Create a DataFrame\n",
        "students_df = pd.DataFrame(data)\n",
        "\n",
        "# Display the DataFrame\n",
        "print(students_df)"
      ],
      "metadata": {
        "colab": {
          "base_uri": "https://localhost:8080/"
        },
        "id": "W6yvkEWC-Ax0",
        "outputId": "7d70a294-5f33-4e34-eeed-2acbe81b7ac3"
      },
      "execution_count": null,
      "outputs": [
        {
          "output_type": "stream",
          "name": "stdout",
          "text": [
            "              Name  Age             Major  GPA\n",
            "0      Sumit Singh   20  Computer Science  5.8\n",
            "1   Abhinav Sharma   19       Mathematics  5.8\n",
            "2  Achintya Tiwari   21           Physics  5.8\n",
            "3      Sumit Yadav   22           Biology  5.8\n",
            "4          Ronaldo   24         Chemistry  7.6\n",
            "5     Akshay Kumar   19       Engineering  7.1\n",
            "6     Chhota Bheem   18       Mathematics  8.7\n",
            "7            Obaid   25  Computer Science  5.8\n",
            "8    Narendra Modi   22           Biology  8.8\n",
            "9      Virat Kohli   23           Physics  9.0\n"
          ]
        }
      ]
    }
  ]
}